{
 "cells": [
  {
   "cell_type": "markdown",
   "id": "95c96040",
   "metadata": {},
   "source": [
    "# Excel ja xlwings\n",
    "\n",
    "Ensimmäinen tutustuminen Excelin ohjelmointiin xlwingsillä\n",
    "\n",
    "Excelin objektihierarkian keskeisimmät osat:\n",
    "\n",
    "Application\n",
    "\n",
    "    Workbooks (kokoelma)\n",
    "\n",
    "        Workbook\n",
    "    \n",
    "            Sheets (kokoelma)\n",
    "            \n",
    "                Worksheet\n",
    "        \n",
    "                    Range\n",
    "\n",
    "Python APIn (API=Application Programming Interface) kautta voit ohjelmoida Exceliä. Opettele lukemaan APIn dokumentaatiota: https://docs.xlwings.org/en/stable/api.html"
   ]
  },
  {
   "cell_type": "code",
   "execution_count": 1,
   "id": "a19e7b03",
   "metadata": {},
   "outputs": [],
   "source": [
    "import pandas as pd\n",
    "import xlwings as xw"
   ]
  },
  {
   "cell_type": "markdown",
   "id": "f2a326ff",
   "metadata": {},
   "source": [
    "Excelistä voidaan käynnistää useita erillisiä instansseja. Erillistä instanssia käytettäessä se on helppo sulkea ja tarvittaessa piilottaa. Piilottamisella käyttäjää estetään sotkemasta Exceliä sillä aikaa kun Pythonista käsin tietojen kirjoitus on meneillään.\n",
    "\n",
    "* https://docs.xlwings.org/en/latest/api.html#app\n",
    "\n",
    "* https://docs.xlwings.org/en/latest/api.html#xlwings.main.Books.active\n",
    "\n",
    "* https://docs.xlwings.org/en/latest/api.html#book"
   ]
  },
  {
   "cell_type": "code",
   "execution_count": 2,
   "id": "2efe1f69",
   "metadata": {},
   "outputs": [],
   "source": [
    "# Uuden Excel-instanssin käynnistäminen (Excelin ei tarvitse lähtötilanteessa olla avoinna)\n",
    "# visible=False piilottaa uuden instanssin\n",
    "app = xw.App(visible=False)\n",
    "\n",
    "# Uuden Excel-instanssin myötä luotu työkirja\n",
    "wb1 = xw.books.active\n",
    "\n",
    "# Uuden työkirjan luominen\n",
    "wb2 = xw.Book()"
   ]
  },
  {
   "cell_type": "markdown",
   "id": "345ba7d5",
   "metadata": {},
   "source": [
    "* https://docs.xlwings.org/en/latest/api.html#sheets"
   ]
  },
  {
   "cell_type": "code",
   "execution_count": 3,
   "id": "ef89a9e6",
   "metadata": {},
   "outputs": [],
   "source": [
    "# Viittaus ensimmäiseen taulukkovälilehteen\n",
    "ws1_1 = wb1.sheets[0]\n",
    "ws2_1 = wb2.sheets[0]\n",
    "\n",
    "# Taulukkovälilehden lisääminen\n",
    "ws2_2 = wb2.sheets.add(after=wb2.sheets.count)"
   ]
  },
  {
   "cell_type": "markdown",
   "id": "92ef3de9",
   "metadata": {},
   "source": [
    "* https://docs.xlwings.org/en/latest/api.html#range"
   ]
  },
  {
   "cell_type": "code",
   "execution_count": 4,
   "id": "63a484ca",
   "metadata": {},
   "outputs": [],
   "source": [
    "# Tietojen kirjoittaminen soluun\n",
    "ws1_1.range('B3').value = 'x'\n",
    "ws1_1.range('C3').value = 'y'\n",
    "\n",
    "# for-silmukassa täytyy käyttää toisenlaista viittaustapaa (rivin ja sarakkeen numero) \n",
    "for i in range(10):\n",
    "    ws1_1.range((i+4, 2)).value = i\n",
    "    ws1_1.range((i+4, 3)).value = f'=exp(B{i+4})'"
   ]
  },
  {
   "cell_type": "code",
   "execution_count": 5,
   "id": "95ad7b6a",
   "metadata": {},
   "outputs": [
    {
     "data": {
      "text/plain": [
       "[['x', 'y'],\n",
       " [0.0, 1.0],\n",
       " [1.0, 2.718281828459045],\n",
       " [2.0, 7.38905609893065],\n",
       " [3.0, 20.085536923187668],\n",
       " [4.0, 54.598150033144236]]"
      ]
     },
     "execution_count": 5,
     "metadata": {},
     "output_type": "execute_result"
    }
   ],
   "source": [
    "# Datan lukeminen Excelistä\n",
    "data = ws1_1.range('B3:C8').value\n",
    "data"
   ]
  },
  {
   "cell_type": "markdown",
   "id": "fbd0d490",
   "metadata": {},
   "source": [
    "* https://docs.xlwings.org/en/latest/api.html#xlwings.Range.expand\n",
    "* https://docs.xlwings.org/en/latest/converters.html"
   ]
  },
  {
   "cell_type": "code",
   "execution_count": 6,
   "id": "011fae2c",
   "metadata": {},
   "outputs": [
    {
     "data": {
      "text/html": [
       "<div>\n",
       "<style scoped>\n",
       "    .dataframe tbody tr th:only-of-type {\n",
       "        vertical-align: middle;\n",
       "    }\n",
       "\n",
       "    .dataframe tbody tr th {\n",
       "        vertical-align: top;\n",
       "    }\n",
       "\n",
       "    .dataframe thead th {\n",
       "        text-align: right;\n",
       "    }\n",
       "</style>\n",
       "<table border=\"1\" class=\"dataframe\">\n",
       "  <thead>\n",
       "    <tr style=\"text-align: right;\">\n",
       "      <th></th>\n",
       "      <th>x</th>\n",
       "      <th>y</th>\n",
       "    </tr>\n",
       "  </thead>\n",
       "  <tbody>\n",
       "    <tr>\n",
       "      <th>0</th>\n",
       "      <td>0.0</td>\n",
       "      <td>1.000000</td>\n",
       "    </tr>\n",
       "    <tr>\n",
       "      <th>1</th>\n",
       "      <td>1.0</td>\n",
       "      <td>2.718282</td>\n",
       "    </tr>\n",
       "    <tr>\n",
       "      <th>2</th>\n",
       "      <td>2.0</td>\n",
       "      <td>7.389056</td>\n",
       "    </tr>\n",
       "    <tr>\n",
       "      <th>3</th>\n",
       "      <td>3.0</td>\n",
       "      <td>20.085537</td>\n",
       "    </tr>\n",
       "    <tr>\n",
       "      <th>4</th>\n",
       "      <td>4.0</td>\n",
       "      <td>54.598150</td>\n",
       "    </tr>\n",
       "    <tr>\n",
       "      <th>5</th>\n",
       "      <td>5.0</td>\n",
       "      <td>148.413159</td>\n",
       "    </tr>\n",
       "    <tr>\n",
       "      <th>6</th>\n",
       "      <td>6.0</td>\n",
       "      <td>403.428793</td>\n",
       "    </tr>\n",
       "    <tr>\n",
       "      <th>7</th>\n",
       "      <td>7.0</td>\n",
       "      <td>1096.633158</td>\n",
       "    </tr>\n",
       "    <tr>\n",
       "      <th>8</th>\n",
       "      <td>8.0</td>\n",
       "      <td>2980.957987</td>\n",
       "    </tr>\n",
       "    <tr>\n",
       "      <th>9</th>\n",
       "      <td>9.0</td>\n",
       "      <td>8103.083928</td>\n",
       "    </tr>\n",
       "  </tbody>\n",
       "</table>\n",
       "</div>"
      ],
      "text/plain": [
       "     x            y\n",
       "0  0.0     1.000000\n",
       "1  1.0     2.718282\n",
       "2  2.0     7.389056\n",
       "3  3.0    20.085537\n",
       "4  4.0    54.598150\n",
       "5  5.0   148.413159\n",
       "6  6.0   403.428793\n",
       "7  7.0  1096.633158\n",
       "8  8.0  2980.957987\n",
       "9  9.0  8103.083928"
      ]
     },
     "execution_count": 6,
     "metadata": {},
     "output_type": "execute_result"
    }
   ],
   "source": [
    "# Datan lukeminen dataframeen\n",
    "df1 = ws1_1.range('B3').expand().options(pd.DataFrame, index=False).value\n",
    "df1"
   ]
  },
  {
   "cell_type": "markdown",
   "id": "5f85b2da",
   "metadata": {},
   "source": [
    "* https://docs.xlwings.org/en/latest/api.html#xlwings.Book.save"
   ]
  },
  {
   "cell_type": "code",
   "execution_count": 7,
   "id": "0ae04f8e",
   "metadata": {},
   "outputs": [],
   "source": [
    "# Työkirjan tallennus\n",
    "wb1.save('C:/Users/taaak/testi.xlsx')"
   ]
  },
  {
   "cell_type": "code",
   "execution_count": 8,
   "id": "987ad14b",
   "metadata": {},
   "outputs": [],
   "source": [
    "# Tuodaan Excelit näkyville\n",
    "app.visible = True"
   ]
  },
  {
   "cell_type": "code",
   "execution_count": 9,
   "id": "d65a3b5a",
   "metadata": {},
   "outputs": [],
   "source": [
    "# Excel instanssin sulkeminen\n",
    "app.quit()"
   ]
  }
 ],
 "metadata": {
  "kernelspec": {
   "display_name": "Python 3 (ipykernel)",
   "language": "python",
   "name": "python3"
  },
  "language_info": {
   "codemirror_mode": {
    "name": "ipython",
    "version": 3
   },
   "file_extension": ".py",
   "mimetype": "text/x-python",
   "name": "python",
   "nbconvert_exporter": "python",
   "pygments_lexer": "ipython3",
   "version": "3.9.12"
  }
 },
 "nbformat": 4,
 "nbformat_minor": 5
}
